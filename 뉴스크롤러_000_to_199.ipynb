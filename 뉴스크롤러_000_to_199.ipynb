{
 "cells": [
  {
   "cell_type": "markdown",
   "metadata": {
    "id": "xbEdS0Pba7MA"
   },
   "source": [
    "# 환경설정"
   ]
  },
  {
   "cell_type": "code",
   "execution_count": 3,
   "metadata": {},
   "outputs": [],
   "source": [
    "import pandas as pd"
   ]
  },
  {
   "cell_type": "code",
   "execution_count": 4,
   "metadata": {},
   "outputs": [
    {
     "name": "stdout",
     "output_type": "stream",
     "text": [
      "Pandas Version : 1.3.4\n"
     ]
    }
   ],
   "source": [
    "print('Pandas Version :', pd.__version__)"
   ]
  },
  {
   "cell_type": "markdown",
   "metadata": {
    "id": "OVdsVSLthZD1"
   },
   "source": [
    "# KOSPI200 리스트 로드"
   ]
  },
  {
   "cell_type": "markdown",
   "metadata": {
    "id": "DFkI09u3jn8S"
   },
   "source": [
    "https://markets.hankyung.com/indices/kospi200"
   ]
  },
  {
   "cell_type": "code",
   "execution_count": 4,
   "metadata": {
    "colab": {
     "base_uri": "https://localhost:8080/"
    },
    "id": "T-bHTeMUfVcj",
    "outputId": "b0d2430e-e553-478b-f017-ef2bcd487c6e"
   },
   "outputs": [],
   "source": [
    "kospi200 = pd.read_csv(\"붙임2212KOSPI200KOSDAQ150및KRX300정기변경내역.csv\")"
   ]
  },
  {
   "cell_type": "code",
   "execution_count": 5,
   "metadata": {
    "colab": {
     "base_uri": "https://localhost:8080/",
     "height": 424
    },
    "id": "zQDZGItCfYCh",
    "outputId": "0f3fd746-c95c-4d1d-ab89-828fd613dede"
   },
   "outputs": [
    {
     "data": {
      "text/html": [
       "<div>\n",
       "<style scoped>\n",
       "    .dataframe tbody tr th:only-of-type {\n",
       "        vertical-align: middle;\n",
       "    }\n",
       "\n",
       "    .dataframe tbody tr th {\n",
       "        vertical-align: top;\n",
       "    }\n",
       "\n",
       "    .dataframe thead th {\n",
       "        text-align: right;\n",
       "    }\n",
       "</style>\n",
       "<table border=\"1\" class=\"dataframe\">\n",
       "  <thead>\n",
       "    <tr style=\"text-align: right;\">\n",
       "      <th></th>\n",
       "      <th>종목명</th>\n",
       "    </tr>\n",
       "  </thead>\n",
       "  <tbody>\n",
       "    <tr>\n",
       "      <th>0</th>\n",
       "      <td>메리츠화재</td>\n",
       "    </tr>\n",
       "    <tr>\n",
       "      <th>1</th>\n",
       "      <td>하이트진로</td>\n",
       "    </tr>\n",
       "    <tr>\n",
       "      <th>2</th>\n",
       "      <td>유한양행</td>\n",
       "    </tr>\n",
       "    <tr>\n",
       "      <th>3</th>\n",
       "      <td>CJ대한통운</td>\n",
       "    </tr>\n",
       "    <tr>\n",
       "      <th>4</th>\n",
       "      <td>두산</td>\n",
       "    </tr>\n",
       "    <tr>\n",
       "      <th>...</th>\n",
       "      <td>...</td>\n",
       "    </tr>\n",
       "    <tr>\n",
       "      <th>195</th>\n",
       "      <td>DL이앤씨</td>\n",
       "    </tr>\n",
       "    <tr>\n",
       "      <th>196</th>\n",
       "      <td>카카오페이</td>\n",
       "    </tr>\n",
       "    <tr>\n",
       "      <th>197</th>\n",
       "      <td>케이카</td>\n",
       "    </tr>\n",
       "    <tr>\n",
       "      <th>198</th>\n",
       "      <td>F&amp;F</td>\n",
       "    </tr>\n",
       "    <tr>\n",
       "      <th>199</th>\n",
       "      <td>SK스퀘어</td>\n",
       "    </tr>\n",
       "  </tbody>\n",
       "</table>\n",
       "<p>200 rows × 1 columns</p>\n",
       "</div>"
      ],
      "text/plain": [
       "        종목명\n",
       "0     메리츠화재\n",
       "1     하이트진로\n",
       "2      유한양행\n",
       "3    CJ대한통운\n",
       "4        두산\n",
       "..      ...\n",
       "195   DL이앤씨\n",
       "196   카카오페이\n",
       "197     케이카\n",
       "198     F&F\n",
       "199   SK스퀘어\n",
       "\n",
       "[200 rows x 1 columns]"
      ]
     },
     "execution_count": 5,
     "metadata": {},
     "output_type": "execute_result"
    }
   ],
   "source": [
    "kospi200"
   ]
  },
  {
   "cell_type": "markdown",
   "metadata": {
    "id": "oasqrVvAirSL"
   },
   "source": [
    "# 네이버뉴스크롤링"
   ]
  },
  {
   "cell_type": "code",
   "execution_count": 11,
   "metadata": {
    "id": "NHLyIKYuj26T"
   },
   "outputs": [],
   "source": [
    "import requests\n",
    "import bs4\n",
    "from bs4 import BeautifulSoup"
   ]
  },
  {
   "cell_type": "code",
   "execution_count": 13,
   "metadata": {},
   "outputs": [
    {
     "name": "stdout",
     "output_type": "stream",
     "text": [
      "Requests Version : 2.26.0\n",
      "BeautifulSoup : 4.10.0\n"
     ]
    }
   ],
   "source": [
    "print('Requests Version :', requests.__version__)\n",
    "print('BeautifulSoup :', bs4.__version__)"
   ]
  },
  {
   "cell_type": "code",
   "execution_count": 11,
   "metadata": {
    "id": "6_nYm2uLkmDs"
   },
   "outputs": [],
   "source": [
    "keyword = []\n",
    "dates = []\n",
    "presses = []\n",
    "titles = []\n",
    "summs = []\n",
    "links = []"
   ]
  },
  {
   "cell_type": "code",
   "execution_count": 12,
   "metadata": {},
   "outputs": [],
   "source": [
    "start_index = 0\n",
    "end_index = 199"
   ]
  },
  {
   "cell_type": "code",
   "execution_count": null,
   "metadata": {},
   "outputs": [],
   "source": [
    "for i in range(start_index, end_index+1):\n",
    "  print(str(i)+\" \"+kospi200[\"종목명\"][i]+\"\\n\")\n",
    "  # 검색어 지정\n",
    "  my_keyword = kospi200[\"종목명\"][i]\n",
    "  my_start_date1 = \"2022.01.01\"\n",
    "  my_start_date2 = my_start_date1.replace('.','')\n",
    "  my_end_date1 = \"2022.12.24\"\n",
    "  my_end_date2 = my_end_date1.replace('.','')\n",
    "  my_number = 4000\n",
    "\n",
    "  # 페이지번호 지정\n",
    "  num_list =[]\n",
    "  for num in range(0,my_number,10):\n",
    "      num_list.append(num)\n",
    "\n",
    "  # 뉴스 영역 가져오기\n",
    "  articles = []\n",
    "  for number in num_list:\n",
    "      URL = 'https://search.naver.com/search.naver?where=news&sm=tab_pge&query={search_word}&sort=0&photo=0&field=0&pd=3&ds={startdate}&de={enddate}&cluster_rank=37&mynews=0&office_type=0&office_section_code=0&news_office_checked=&nso=so:r,p:from{start_date}to{end_date},a:all&start={page_num}'\n",
    "      headers = {'user-agent':'Mozilla/5.0 (Windows NT 10.0; Win64; x64) AppleWebKit/537.36 (KHTML, like Gecko) Chrome/88.0.4324.150 Safari/537.36',\n",
    "          'accept':'text/html,application/xhtml+xml,application/xml;q=0.9,image/avif,image/webp,image/apng,*/*;q=0.8,application/signed-exchange;v=b3;q=0.9'}\n",
    "      url = URL.format(search_word = my_keyword ,startdate= my_start_date1,enddate = my_end_date1,\n",
    "                                    start_date = my_start_date2,end_date = my_end_date2 ,page_num = number)\n",
    "      \n",
    "      response = requests.get(url, headers = headers)\n",
    "      soup=BeautifulSoup(response.text,'lxml')\n",
    "      news_area = soup.find_all('div', {'class' : 'news_area'})\n",
    "      articles += news_area\n",
    "\n",
    "  # 1차원 배열에 차곡차곡 쌓아 넣기\n",
    "  for article in articles:\n",
    "        try:\n",
    "            article_link = article.find('a', attrs = {'class' : 'news_tit'})['href']\n",
    "            article_title = article.find('a', attrs = {'class' : 'news_tit'})['title']\n",
    "            article_summ = article.find('a', attrs = {'class' : 'api_txt_lines dsc_txt_wrap'}).get_text()\n",
    "            date2 = article.find('span', attrs = {'class' : 'info'}).get_text()\n",
    "            press2 = article.find('a', {'class': 'info press'}).get_text()\n",
    "            press2 = press2.replace(\"언론사 선정\",'')\n",
    "            keyword.append(my_keyword)\n",
    "            dates.append(date2)\n",
    "            presses.append(press2)\n",
    "            titles.append(article_title)\n",
    "            summs.append(article_summ)\n",
    "            links.append(article_link)\n",
    "        except:\n",
    "            print(\"error\")"
   ]
  },
  {
   "cell_type": "code",
   "execution_count": 14,
   "metadata": {
    "id": "zkEK6j_Aj-9P"
   },
   "outputs": [],
   "source": [
    "import pandas as pd\n",
    "df = pd.DataFrame({'검색어': keyword,\n",
    "                   '날짜': dates,\n",
    "                   '언론사': presses,\n",
    "                   '제목': titles,\n",
    "                   '요약': summs,\n",
    "                   '링크' : links})"
   ]
  },
  {
   "cell_type": "code",
   "execution_count": 17,
   "metadata": {},
   "outputs": [
    {
     "data": {
      "text/html": [
       "<div>\n",
       "<style scoped>\n",
       "    .dataframe tbody tr th:only-of-type {\n",
       "        vertical-align: middle;\n",
       "    }\n",
       "\n",
       "    .dataframe tbody tr th {\n",
       "        vertical-align: top;\n",
       "    }\n",
       "\n",
       "    .dataframe thead th {\n",
       "        text-align: right;\n",
       "    }\n",
       "</style>\n",
       "<table border=\"1\" class=\"dataframe\">\n",
       "  <thead>\n",
       "    <tr style=\"text-align: right;\">\n",
       "      <th></th>\n",
       "      <th>검색어</th>\n",
       "      <th>날짜</th>\n",
       "      <th>언론사</th>\n",
       "      <th>제목</th>\n",
       "      <th>요약</th>\n",
       "      <th>링크</th>\n",
       "    </tr>\n",
       "  </thead>\n",
       "  <tbody>\n",
       "    <tr>\n",
       "      <th>0</th>\n",
       "      <td>메리츠화재</td>\n",
       "      <td>3일 전</td>\n",
       "      <td>머니S</td>\n",
       "      <td>김용범 메리츠화재 대표, '영업통' 김경환 부사장 앉혔다… 이유는?</td>\n",
       "      <td>김용범 메리츠화재 대표가 김경환 전무를 부사장으로 승진시키는 등 지난 23일 임원인...</td>\n",
       "      <td>http://moneys.mt.co.kr/news/mwView.php?no=2022...</td>\n",
       "    </tr>\n",
       "    <tr>\n",
       "      <th>1</th>\n",
       "      <td>메리츠화재</td>\n",
       "      <td>4일 전</td>\n",
       "      <td>매경이코노미</td>\n",
       "      <td>내년 車 보험료 내린다…현대·KB·메리츠화재 등 줄 인하</td>\n",
       "      <td>롯데손보 2.9%로 인하폭 가장 커 메리츠 2.5%, 현대·KB 2.0% 등 현대해...</td>\n",
       "      <td>https://www.mk.co.kr/article/10578542</td>\n",
       "    </tr>\n",
       "    <tr>\n",
       "      <th>2</th>\n",
       "      <td>메리츠화재</td>\n",
       "      <td>3일 전</td>\n",
       "      <td>팍스넷뉴스</td>\n",
       "      <td>메리츠證, 장원재 사장 승진…\"리스크관리 전문가\"</td>\n",
       "      <td>메리츠화재 최고리스크관리책임자(CRO), 메리츠금융지주 CRO 등을 역임했다. 메리...</td>\n",
       "      <td>https://www.paxnetnews.com/articles/96200</td>\n",
       "    </tr>\n",
       "    <tr>\n",
       "      <th>3</th>\n",
       "      <td>메리츠화재</td>\n",
       "      <td>3일 전</td>\n",
       "      <td>뉴스핌</td>\n",
       "      <td>메리츠금융그룹, 정기 임원 인사 실시</td>\n",
       "      <td>[서울=뉴스핌] 김승동 기자 = 메리츠화재 본사 사옥 2020.09.03 0I087...</td>\n",
       "      <td>http://www.newspim.com/news/view/20221223000452</td>\n",
       "    </tr>\n",
       "    <tr>\n",
       "      <th>4</th>\n",
       "      <td>메리츠화재</td>\n",
       "      <td>3일 전</td>\n",
       "      <td>프라임경제</td>\n",
       "      <td>[인사] 메리츠화재</td>\n",
       "      <td>메리츠화재(000060)는 2023년 1월1일자로 임원 승진 인사를 단행했다고 23...</td>\n",
       "      <td>http://www.newsprime.co.kr/news/article.html?n...</td>\n",
       "    </tr>\n",
       "    <tr>\n",
       "      <th>...</th>\n",
       "      <td>...</td>\n",
       "      <td>...</td>\n",
       "      <td>...</td>\n",
       "      <td>...</td>\n",
       "      <td>...</td>\n",
       "      <td>...</td>\n",
       "    </tr>\n",
       "    <tr>\n",
       "      <th>83017</th>\n",
       "      <td>SK네트웍스</td>\n",
       "      <td>2022.07.01.</td>\n",
       "      <td>핀포인트뉴스</td>\n",
       "      <td>[SK그룹] 등락률 살펴보니…SK바이오팜 1.9% 상승 '미소'</td>\n",
       "      <td>61%)▲8위 SK네트웍스 4200원(-0.71%)▲9위 SK 21만5000원(-1...</td>\n",
       "      <td>http://www.pinpointnews.co.kr/news/articleView...</td>\n",
       "    </tr>\n",
       "    <tr>\n",
       "      <th>83018</th>\n",
       "      <td>SK네트웍스</td>\n",
       "      <td>2022.08.24.</td>\n",
       "      <td>서울경제</td>\n",
       "      <td>[기업공시 8월 23일]에브리봇, 1주당 1주 배정 무상증자 결정 등</td>\n",
       "      <td>▲SK네트웍스(001740)=전기차 충전 인프라 추진 사업 위해 728억 원 규모의...</td>\n",
       "      <td>https://www.sedaily.com/NewsView/269X7TCH4W</td>\n",
       "    </tr>\n",
       "    <tr>\n",
       "      <th>83019</th>\n",
       "      <td>SK네트웍스</td>\n",
       "      <td>2022.07.25.</td>\n",
       "      <td>Queen</td>\n",
       "      <td>재계 세대교체 3·4세 등장 \"기존과 다른 스타일\" … 승계 작업 빨라질 듯</td>\n",
       "      <td>SK그룹에서는 최신원 전 SK네트웍스 회장의 장남인 최성환 사업총괄이 올해 SK네트...</td>\n",
       "      <td>http://www.queen.co.kr/news/articleView.html?i...</td>\n",
       "    </tr>\n",
       "    <tr>\n",
       "      <th>83020</th>\n",
       "      <td>SK네트웍스</td>\n",
       "      <td>2022.06.30.</td>\n",
       "      <td>ZDNet Korea</td>\n",
       "      <td>SK, 35년 집념으로 ‘K-바이오’ 시대 이끈다</td>\n",
       "      <td>최태원 SK 회장(맨왼쪽)과 최재원 SK 수석부회장, 최창원 SK 디스커버리 부회장...</td>\n",
       "      <td>https://zdnet.co.kr/view/?no=20220630025900</td>\n",
       "    </tr>\n",
       "    <tr>\n",
       "      <th>83021</th>\n",
       "      <td>SK네트웍스</td>\n",
       "      <td>2022.07.07.</td>\n",
       "      <td>한국농어촌방송</td>\n",
       "      <td>코오롱 4세 이규호, 우영미 디자이너 딸과 화촉..삼성·SK·LG 등 총수 참석</td>\n",
       "      <td>전 SK네트웍스 회장, 방시혁 하이브 이사회 의장 등도 참석했습니다. 정계에선 권성...</td>\n",
       "      <td>http://www.newskr.kr/news/articleView.html?idx...</td>\n",
       "    </tr>\n",
       "  </tbody>\n",
       "</table>\n",
       "<p>83022 rows × 6 columns</p>\n",
       "</div>"
      ],
      "text/plain": [
       "          검색어           날짜          언론사  \\\n",
       "0       메리츠화재         3일 전          머니S   \n",
       "1       메리츠화재         4일 전       매경이코노미   \n",
       "2       메리츠화재         3일 전        팍스넷뉴스   \n",
       "3       메리츠화재         3일 전          뉴스핌   \n",
       "4       메리츠화재         3일 전        프라임경제   \n",
       "...       ...          ...          ...   \n",
       "83017  SK네트웍스  2022.07.01.       핀포인트뉴스   \n",
       "83018  SK네트웍스  2022.08.24.         서울경제   \n",
       "83019  SK네트웍스  2022.07.25.        Queen   \n",
       "83020  SK네트웍스  2022.06.30.  ZDNet Korea   \n",
       "83021  SK네트웍스  2022.07.07.      한국농어촌방송   \n",
       "\n",
       "                                                 제목  \\\n",
       "0             김용범 메리츠화재 대표, '영업통' 김경환 부사장 앉혔다… 이유는?   \n",
       "1                   내년 車 보험료 내린다…현대·KB·메리츠화재 등 줄 인하   \n",
       "2                       메리츠證, 장원재 사장 승진…\"리스크관리 전문가\"   \n",
       "3                              메리츠금융그룹, 정기 임원 인사 실시   \n",
       "4                                        [인사] 메리츠화재   \n",
       "...                                             ...   \n",
       "83017           [SK그룹] 등락률 살펴보니…SK바이오팜 1.9% 상승 '미소'   \n",
       "83018        [기업공시 8월 23일]에브리봇, 1주당 1주 배정 무상증자 결정 등   \n",
       "83019    재계 세대교체 3·4세 등장 \"기존과 다른 스타일\" … 승계 작업 빨라질 듯   \n",
       "83020                   SK, 35년 집념으로 ‘K-바이오’ 시대 이끈다   \n",
       "83021  코오롱 4세 이규호, 우영미 디자이너 딸과 화촉..삼성·SK·LG 등 총수 참석   \n",
       "\n",
       "                                                      요약  \\\n",
       "0      김용범 메리츠화재 대표가 김경환 전무를 부사장으로 승진시키는 등 지난 23일 임원인...   \n",
       "1      롯데손보 2.9%로 인하폭 가장 커 메리츠 2.5%, 현대·KB 2.0% 등 현대해...   \n",
       "2      메리츠화재 최고리스크관리책임자(CRO), 메리츠금융지주 CRO 등을 역임했다. 메리...   \n",
       "3      [서울=뉴스핌] 김승동 기자 = 메리츠화재 본사 사옥 2020.09.03 0I087...   \n",
       "4      메리츠화재(000060)는 2023년 1월1일자로 임원 승진 인사를 단행했다고 23...   \n",
       "...                                                  ...   \n",
       "83017  61%)▲8위 SK네트웍스 4200원(-0.71%)▲9위 SK 21만5000원(-1...   \n",
       "83018  ▲SK네트웍스(001740)=전기차 충전 인프라 추진 사업 위해 728억 원 규모의...   \n",
       "83019  SK그룹에서는 최신원 전 SK네트웍스 회장의 장남인 최성환 사업총괄이 올해 SK네트...   \n",
       "83020  최태원 SK 회장(맨왼쪽)과 최재원 SK 수석부회장, 최창원 SK 디스커버리 부회장...   \n",
       "83021  전 SK네트웍스 회장, 방시혁 하이브 이사회 의장 등도 참석했습니다. 정계에선 권성...   \n",
       "\n",
       "                                                      링크  \n",
       "0      http://moneys.mt.co.kr/news/mwView.php?no=2022...  \n",
       "1                  https://www.mk.co.kr/article/10578542  \n",
       "2              https://www.paxnetnews.com/articles/96200  \n",
       "3        http://www.newspim.com/news/view/20221223000452  \n",
       "4      http://www.newsprime.co.kr/news/article.html?n...  \n",
       "...                                                  ...  \n",
       "83017  http://www.pinpointnews.co.kr/news/articleView...  \n",
       "83018        https://www.sedaily.com/NewsView/269X7TCH4W  \n",
       "83019  http://www.queen.co.kr/news/articleView.html?i...  \n",
       "83020        https://zdnet.co.kr/view/?no=20220630025900  \n",
       "83021  http://www.newskr.kr/news/articleView.html?idx...  \n",
       "\n",
       "[83022 rows x 6 columns]"
      ]
     },
     "execution_count": 17,
     "metadata": {},
     "output_type": "execute_result"
    }
   ],
   "source": [
    "df"
   ]
  },
  {
   "cell_type": "code",
   "execution_count": 16,
   "metadata": {},
   "outputs": [],
   "source": [
    "df.to_excel('삼성증권_뉴스크롤링_'+str(start_index)+'_to_'+str(end_index)+'.xlsx')"
   ]
  }
 ],
 "metadata": {
  "colab": {
   "provenance": []
  },
  "kernelspec": {
   "display_name": "Python 3 (ipykernel)",
   "language": "python",
   "name": "python3"
  },
  "language_info": {
   "codemirror_mode": {
    "name": "ipython",
    "version": 3
   },
   "file_extension": ".py",
   "mimetype": "text/x-python",
   "name": "python",
   "nbconvert_exporter": "python",
   "pygments_lexer": "ipython3",
   "version": "3.9.7"
  }
 },
 "nbformat": 4,
 "nbformat_minor": 1
}
